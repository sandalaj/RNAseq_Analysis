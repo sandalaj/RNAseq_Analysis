{
 "cells": [
  {
   "cell_type": "markdown",
   "id": "a8aa42d1-173c-4ea3-8ab5-b4723718e252",
   "metadata": {},
   "source": [
    "## Install/load required packages"
   ]
  },
  {
   "cell_type": "code",
   "execution_count": null,
   "id": "10e43052-5fa1-4179-a83f-30c24495c251",
   "metadata": {},
   "outputs": [
    {
     "name": "stderr",
     "output_type": "stream",
     "text": [
      "'getOption(\"repos\")' replaces Bioconductor standard repositories, see\n",
      "'?repositories' for details\n",
      "\n",
      "replacement repositories:\n",
      "    CRAN: https://cran.r-project.org\n",
      "\n",
      "\n",
      "Bioconductor version 3.12 (BiocManager 1.30.16), R 4.0.1 (2020-06-06)\n",
      "\n",
      "Installing package(s) 'BiocVersion', 'DESeq2', 'qvalue', 'AnnotationDbi',\n",
      "  'DOSE'\n",
      "\n",
      "also installing the dependencies ‘RCurl’, ‘matrixStats’, ‘lambda.r’, ‘XML’, ‘xtable’, ‘GenomeInfoDb’, ‘XVector’, ‘MatrixGenerics’, ‘DelayedArray’, ‘futile.logger’, ‘BH’, ‘annotate’, ‘survival’, ‘plogr’, ‘gridExtra’, ‘fastmatch’, ‘GO.db’, ‘S4Vectors’, ‘IRanges’, ‘GenomicRanges’, ‘SummarizedExperiment’, ‘BiocGenerics’, ‘Biobase’, ‘BiocParallel’, ‘genefilter’, ‘locfit’, ‘geneplotter’, ‘RcppArmadillo’, ‘RSQLite’, ‘DO.db’, ‘fgsea’, ‘GOSemSim’\n",
      "\n",
      "\n"
     ]
    }
   ],
   "source": [
    "if (!requireNamespace(\"BiocManager\", quietly = TRUE))\n",
    "    install.packages(\"BiocManager\")\n",
    "\n",
    "BiocManager::install(c(\"DESeq2\", \"qvalue\", \"AnnotationDbi\", \"DOSE\"), force = TRUE)"
   ]
  },
  {
   "cell_type": "code",
   "execution_count": null,
   "id": "dbc3f425-7b83-45b2-916e-5d6a36ff38ff",
   "metadata": {},
   "outputs": [],
   "source": [
    "library(DESeq2)\n",
    "library(tidyverse)\n",
    "library(qvalue)\n",
    "library(AnnotationDbi)\n",
    "library(DOSE)\n"
   ]
  },
  {
   "cell_type": "markdown",
   "id": "b8944ec7-0cf6-4fe4-a1ad-eb61fa26774f",
   "metadata": {},
   "source": [
    "## Read in the data"
   ]
  },
  {
   "cell_type": "markdown",
   "id": "6e4d340b-6950-4987-ab4c-e10d1e28787a",
   "metadata": {},
   "source": [
    "### Read in the raw read counts data"
   ]
  },
  {
   "cell_type": "code",
   "execution_count": null,
   "id": "495e1279-2629-486f-9f85-2e5b0d0e03c0",
   "metadata": {},
   "outputs": [],
   "source": [
    "TranscriptData <- as.matrix(read.csv(\"RNAseq.csv\", row.names = \"transcript_id\"))"
   ]
  },
  {
   "cell_type": "markdown",
   "id": "9dbb12ed-cc99-4244-8a2a-5a5bd63cdb9a",
   "metadata": {},
   "source": [
    "### Read in the data table of sample information"
   ]
  },
  {
   "cell_type": "code",
   "execution_count": null,
   "id": "396bae1e-7bb3-4f95-86df-5fc65356131f",
   "metadata": {},
   "outputs": [],
   "source": [
    "ColData <- read.csv(\"Sample_Names.txt\",  sep=\"\\t\", row.names=1)"
   ]
  },
  {
   "cell_type": "markdown",
   "id": "1af764ac-9d95-468e-bc27-f1f41937d17d",
   "metadata": {},
   "source": [
    "### Confirm that the transcript data row names match the coldata column names"
   ]
  },
  {
   "cell_type": "code",
   "execution_count": null,
   "id": "473856c0-35f6-4ca2-a5d9-d4fc93d784a7",
   "metadata": {},
   "outputs": [],
   "source": [
    "all(rownames(ColData) %in% colnames(TranscriptData))\n",
    "all(rownames(ColData) == colnames(TranscriptData))"
   ]
  },
  {
   "cell_type": "markdown",
   "id": "294b1686-b4ba-4196-8df0-6405ffa36c28",
   "metadata": {},
   "source": [
    "## Make DESeq Dataset "
   ]
  },
  {
   "cell_type": "markdown",
   "id": "c34bcc67-a265-4c99-bf33-86ea9b260adf",
   "metadata": {},
   "source": [
    "### Generate DESeq Dataset from read counts matrix"
   ]
  },
  {
   "cell_type": "code",
   "execution_count": null,
   "id": "ca2c4943-c4af-47ff-b33d-3036ca80c0e1",
   "metadata": {},
   "outputs": [],
   "source": [
    "dds <- DESeqDataSetFromMatrix(countData = TranscriptData, colData = ColData)\n",
    "\n",
    "## Starting number of genes:\n",
    "nrow(dds) "
   ]
  },
  {
   "cell_type": "markdown",
   "id": "2776bbb8-7617-43c1-9a28-cda12169b45a",
   "metadata": {
    "tags": []
   },
   "source": [
    "#### Pre-filter for any rows that have less then 10 counts across them"
   ]
  },
  {
   "cell_type": "code",
   "execution_count": null,
   "id": "88a5cdb2-2aed-4700-803a-7280a709215c",
   "metadata": {},
   "outputs": [],
   "source": [
    "keep <- rowSums(counts(dds)) >= 10\n",
    "## e.g.: keep <- rowSums(counts(dds) >= 10) >= 3, this would be at least 3 samples with 10 reads.\n",
    "\n",
    "dds <- dds[keep,]\n",
    "\n",
    "## Remaining number of genes:\n",
    "nrow(dds) "
   ]
  },
  {
   "cell_type": "markdown",
   "id": "7eb86ad9-5ba2-4a25-933f-14edabda4002",
   "metadata": {},
   "source": [
    "## Normalize/Transform DESeq dataset"
   ]
  },
  {
   "cell_type": "markdown",
   "id": "c777f916-97aa-4653-99eb-dbe831ffd03a",
   "metadata": {},
   "source": [
    "#### This returns a DESeqTransform object. Stored data is no longer counts and must be accessed through assay. Sequencing depth normalization is done automatically\n"
   ]
  },
  {
   "cell_type": "code",
   "execution_count": null,
   "id": "fc7f9e9e-061c-4a31-ba60-bd07c1707c82",
   "metadata": {},
   "outputs": [],
   "source": [
    "vsd <- vst(dds, blind = FALSE) \n",
    "## blind = FALSE The experimental design is not used directly in the transformation, only in estimating the global amount of variability in the counts.\n",
    "\n",
    "head(assay(vsd), 3)\n",
    "colData(vsd)\n",
    "\n",
    "rld <- rlog(dds, blind = FALSE)\n",
    "head(assay(rld), 3)\n",
    "## rlog supposed to work better with smaller sample size and when there is more variation in sequencing depth\n"
   ]
  },
  {
   "cell_type": "markdown",
   "id": "4ba6f64f-a2ee-4f32-9a6b-966d81df6a07",
   "metadata": {},
   "source": [
    "## Differential Expression Analysis"
   ]
  },
  {
   "cell_type": "code",
   "execution_count": null,
   "id": "19284956-d32a-411d-a25f-0f78a1372508",
   "metadata": {},
   "outputs": [],
   "source": [
    "dds_analysis <- DESeq(dds)"
   ]
  },
  {
   "cell_type": "markdown",
   "id": "b866efce-5b5f-4b95-9440-ea80dffe9df0",
   "metadata": {},
   "source": [
    "### JG-1 vs. DMSO"
   ]
  },
  {
   "cell_type": "code",
   "execution_count": null,
   "id": "c89b3d2b-c3bd-454e-90cb-e36b62cc1259",
   "metadata": {},
   "outputs": [],
   "source": [
    "resJG1 <- results(dds_analysis, contrast = c(\"Condition\", \"JG1\", \"DMSO\"))\n",
    "## contrast takes specified groups from a factored variable in the data table (\"Condition\"), and calculates DE of numerator (\"JG1\") vs. demoninator (\"DMSO)\n",
    "\n",
    "resJG1\n",
    "\n",
    "## Number of differentially expressed genes with significant p-value:\n",
    "sum(resJG1$pvalue < 0.05, na.rm=TRUE) \n",
    "\n",
    "## Number of differentially expressed genes that are missing a p-value:\n",
    "sum(is.na(resJG1$pvalue)) "
   ]
  },
  {
   "cell_type": "markdown",
   "id": "d79a9fa8-172f-45b0-86c7-8919253cfa39",
   "metadata": {},
   "source": [
    "### M4 vs. DMSO"
   ]
  },
  {
   "cell_type": "code",
   "execution_count": null,
   "id": "a0b15fbc-6842-40b9-afab-faaae9ea818b",
   "metadata": {},
   "outputs": [],
   "source": [
    "resM4 <- results(dds_analysis, contrast = c(\"Condition\", \"M4\", \"DMSO\")) \n",
    "resM4\n",
    "sum(resM4$pvalue < 0.05, na.rm=TRUE) \n",
    "sum(is.na(resM4$pvalue)) "
   ]
  },
  {
   "cell_type": "markdown",
   "id": "b7d791aa-cdf4-401e-8439-1a7afb24ef9e",
   "metadata": {},
   "source": [
    "# Export results"
   ]
  },
  {
   "cell_type": "code",
   "execution_count": null,
   "id": "80a28cad-5d26-40d6-ba0a-300f4234679f",
   "metadata": {},
   "outputs": [],
   "source": [
    "resJG1Ordered <- resJG1[order(resJG1$pvalue),]\n",
    "## Orders data by pvalue\n",
    "\n",
    "resJG1OrderedDF <- as.data.frame(resJG1Ordered)\n",
    "resJG1OrderedDF <- remove_missing(resJG1OrderedDF, vars = \"padj\")\n",
    "## Makes a dataframe and removes rows with missing padj\n",
    "\n",
    "write.csv(resJG1OrderedDF, file = \"JG-1 DE Results.csv\")"
   ]
  },
  {
   "cell_type": "code",
   "execution_count": null,
   "id": "b3db467e-015e-43ca-bcec-5dd7a6788802",
   "metadata": {},
   "outputs": [],
   "source": [
    "resM4Ordered <- resM4[order(resM4$pvalue),]\n",
    "resM4OrderedDF <- as.data.frame(resM4Ordered)\n",
    "resM4OrderedDF <- remove_missing(resM4OrderedDF, vars = \"padj\")\n",
    "\n",
    "write.csv(resM4OrderedDF, file = \"M4 DE Results.csv\")"
   ]
  }
 ],
 "metadata": {
  "kernelspec": {
   "display_name": "R",
   "language": "R",
   "name": "ir"
  },
  "language_info": {
   "codemirror_mode": "r",
   "file_extension": ".r",
   "mimetype": "text/x-r-source",
   "name": "R",
   "pygments_lexer": "r",
   "version": "4.0.1"
  }
 },
 "nbformat": 4,
 "nbformat_minor": 5
}
